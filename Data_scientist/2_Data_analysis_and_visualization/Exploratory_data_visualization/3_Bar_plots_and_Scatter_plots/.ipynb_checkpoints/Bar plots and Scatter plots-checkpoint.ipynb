{
 "cells": [
  {
   "cell_type": "markdown",
   "metadata": {},
   "source": [
    "# Introduction to the data\n",
    "\n",
    "- Read `fandango_scores.csv` into a Dataframe named `reviews`.\n",
    "- Select the following columns and assign the resulting Dataframe to `norm_reviews`:\n",
    "  - `FILM`\n",
    "  - `RT_user_norm`\n",
    "  - `Metacritic_user_nom` (note the misspelling of norm)\n",
    "  - `IMDB_norm`\n",
    "  - `Fandango_Ratingvalue`\n",
    "  - `Fandango_Stars`\n",
    "- Display the first row in `norm_reviews`"
   ]
  },
  {
   "cell_type": "code",
   "execution_count": 1,
   "metadata": {
    "collapsed": false
   },
   "outputs": [
    {
     "name": "stdout",
     "output_type": "stream",
     "text": [
      "FILM                    Avengers: Age of Ultron (2015)\n",
      "RT_user_norm                                       4.3\n",
      "Metacritic_user_nom                               3.55\n",
      "IMDB_norm                                          3.9\n",
      "Fandango_Ratingvalue                               4.5\n",
      "Fandango_Stars                                       5\n",
      "Name: 0, dtype: object\n"
     ]
    }
   ],
   "source": [
    "import pandas as pd\n",
    "\n",
    "reviews = pd.read_csv(\"fandango_scores.csv\")\n",
    "\n",
    "norm_reviews = reviews[[\"FILM\", \n",
    "                       \"RT_user_norm\", \n",
    "                       \"Metacritic_user_nom\", \n",
    "                       \"IMDB_norm\", \n",
    "                       \"Fandango_Ratingvalue\", \n",
    "                       \"Fandango_Stars\"]]\n",
    "\n",
    "print(norm_reviews.loc[0])"
   ]
  },
  {
   "cell_type": "markdown",
   "metadata": {},
   "source": [
    "# Creating Bars\n",
    "\n",
    "Create a single subplot and assign the returned Figure object to `fig` and the returned Axes object to `ax`. Generate a bar plot with:\n",
    "- `left` set to `bar_positions`\n",
    "- `height` set to `bar_heights`\n",
    "- `width` set to `0.5`"
   ]
  },
  {
   "cell_type": "code",
   "execution_count": 5,
   "metadata": {
    "collapsed": false
   },
   "outputs": [
    {
     "data": {
      "text/plain": [
       "<Container object of 5 artists>"
      ]
     },
     "execution_count": 5,
     "metadata": {},
     "output_type": "execute_result"
    },
    {
     "data": {
      "image/png": "[encoded data removed]",
      "text/plain": [
       "<matplotlib.figure.Figure at 0xaf8ee80>"
      ]
     },
     "metadata": {},
     "output_type": "display_data"
    }
   ],
   "source": [
    "%matplotlib inline\n",
    "import matplotlib.pyplot as plt\n",
    "from numpy import arange\n",
    "num_cols = ['RT_user_norm', 'Metacritic_user_nom', 'IMDB_norm', 'Fandango_Ratingvalue', 'Fandango_Stars']\n",
    "\n",
    "bar_heights = norm_reviews[num_cols].iloc[0].values\n",
    "bar_positions = arange(5) + 0.75\n",
    "\n",
    "fig = plt.figure()\n",
    "ax = fig.add_subplot(1, 1, 1)\n",
    "\n",
    "ax.bar(bar_positions, bar_heights, 0.5)"
   ]
  },
  {
   "cell_type": "markdown",
   "metadata": {},
   "source": [
    "# Aligning Axis Ticks And Labels\n",
    "\n"
   ]
  }
 ],
 "metadata": {
  "anaconda-cloud": {},
  "kernelspec": {
   "display_name": "Python [conda root]",
   "language": "python",
   "name": "conda-root-py"
  },
  "language_info": {
   "codemirror_mode": {
    "name": "ipython",
    "version": 2
   },
   "file_extension": ".py",
   "mimetype": "text/x-python",
   "name": "python",
   "nbconvert_exporter": "python",
   "pygments_lexer": "ipython2",
   "version": "2.7.12"
  }
 },
 "nbformat": 4,
 "nbformat_minor": 1
}
