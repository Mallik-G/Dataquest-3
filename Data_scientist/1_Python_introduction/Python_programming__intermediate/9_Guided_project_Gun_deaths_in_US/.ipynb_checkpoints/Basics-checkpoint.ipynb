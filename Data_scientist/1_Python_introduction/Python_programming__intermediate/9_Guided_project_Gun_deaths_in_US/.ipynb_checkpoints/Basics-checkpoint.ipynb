{
 "cells": [
  {
   "cell_type": "markdown",
   "metadata": {
    "collapsed": true
   },
   "source": [
    "# 1. Introducing US Gun Deaths Data\n",
    "\n",
    "Analyzing data on gun deaths in the US. The data looks like this -\n",
    "\n",
    "|year|month|intent|police|sex|age|race|hispanic|place|education\n",
    ":---:|:---:|:----:|:----:|:---:|:---:|:---:|:---:|:---:|:----:\n",
    "1|2012|1|Suicide|0|M|34.0|Asian/Pacific Islander|100|Home|4.0\n",
    "2|2012|1|Suicide|0|F|21.0|White|100|Street|3.0\n",
    "3|2012|1|Suicide|0|M|60.0|White|100|Other specified|4.0\n",
    "4|2012|2|Suicide|0|M|64.0|White|100|Home|4.0\n",
    "5|2012|2|Suicide|0|M|31.0|White|100|Other specified|2.0"
   ]
  },
  {
   "cell_type": "code",
   "execution_count": null,
   "metadata": {
    "collapsed": true
   },
   "outputs": [],
   "source": []
  }
 ],
 "metadata": {
  "kernelspec": {
   "display_name": "Python 3",
   "language": "python",
   "name": "python3"
  },
  "language_info": {
   "codemirror_mode": {
    "name": "ipython",
    "version": 3
   },
   "file_extension": ".py",
   "mimetype": "text/x-python",
   "name": "python",
   "nbconvert_exporter": "python",
   "pygments_lexer": "ipython3",
   "version": "3.4.3"
  }
 },
 "nbformat": 4,
 "nbformat_minor": 0
}
